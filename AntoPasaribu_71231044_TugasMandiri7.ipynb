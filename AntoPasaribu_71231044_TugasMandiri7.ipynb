{
 "cells": [
  {
   "cell_type": "code",
   "execution_count": 2,
   "id": "ac5c6051",
   "metadata": {},
   "outputs": [
    {
     "name": "stdout",
     "output_type": "stream",
     "text": [
      "mata anagram dengan atma \n"
     ]
    }
   ],
   "source": [
    "def are_anagrams(string1, string2):\n",
    "    # Menghapus spasi dan mengubah kedua string menjadi huruf kecil\n",
    "    string1 = string1.lower()\n",
    "    string2 = string2.lower()\n",
    "\n",
    "    # Memeriksa apakah panjang kedua string sama\n",
    "    if len(string1) != len(string2):\n",
    "        return False\n",
    "\n",
    "    # Menghitung frekuensi karakter dalam kedua string\n",
    "    karakter_count = [0] * 26\n",
    "    for karakter in string1:\n",
    "        karakter_count[ord(karakter) - ord('a')] += 1\n",
    "    for karakter in string2:\n",
    "        karakter_count[ord(karakter) - ord('a')] -= 1\n",
    "\n",
    "    # Jika semua frekuensi karakter sama, maka kedua string adalah anagram\n",
    "    return all(count == 0 for count in karakter_count)\n",
    "\n",
    "# Contoh penggunaan\n",
    "kata1 = \"mata\"\n",
    "kata2 = \"atma\"\n",
    "if are_anagrams(kata1, kata2):\n",
    "    print(f\"{kata1} anagram dengan {kata2} \")\n",
    "else:\n",
    "    print(f\"{kata1} dan {kata2} bukan anagram.\")\n"
   ]
  },
  {
   "cell_type": "code",
   "execution_count": 3,
   "id": "26a8974f",
   "metadata": {},
   "outputs": [
    {
     "name": "stdout",
     "output_type": "stream",
     "text": [
      "Kata 'makan' muncul sebanyak 3 kali.\n"
     ]
    }
   ],
   "source": [
    "def hitung_frekuensi_kata(kalimat, kata):\n",
    "    # Menghapus tanda baca dan mengubah semua huruf menjadi huruf kecil\n",
    "    kalimat = kalimat.lower()\n",
    "    kalimat = kalimat.replace(\".\", \"\").replace(\",\", \"\").replace(\"!\", \"\")\n",
    "    kata = kata.lower()\n",
    "\n",
    "    # Memecah kalimat menjadi kata-kata\n",
    "    kata_kalimat = kalimat.split()\n",
    "\n",
    "    # Menghitung frekuensi kemunculan kata\n",
    "    frekuensi = kata_kalimat.count(kata)\n",
    "    return frekuensi\n",
    "\n",
    "# Contoh penggunaan\n",
    "kalimat = \"Saya mau makan. Makan itu wajib. Mau siang atau malam saya wajib makan.\"\n",
    "kata_yang_dicari = \"makan\"\n",
    "frekuensi_makan = hitung_frekuensi_kata(kalimat, kata_yang_dicari)\n",
    "\n",
    "print(f\"Kata '{kata_yang_dicari}' muncul sebanyak {frekuensi_makan} kali.\")\n"
   ]
  },
  {
   "cell_type": "code",
   "execution_count": 4,
   "id": "51cfd6f3",
   "metadata": {},
   "outputs": [
    {
     "name": "stdout",
     "output_type": "stream",
     "text": [
      "Hasil: 'saya tidak suka memancing ikan'\n"
     ]
    }
   ],
   "source": [
    "def hapus_spasi_berlebih(kalimat):\n",
    "    # Menggantikan semua urutan spasi berlebih dengan satu spasi\n",
    "    kalimat = \" \".join(kalimat.split())\n",
    "    return kalimat\n",
    "\n",
    "# Contoh penggunaan\n",
    "kalimat_awal = \"saya    tidak     suka    memancing    ikan \"\n",
    "kalimat_hasil = hapus_spasi_berlebih(kalimat_awal)\n",
    "\n",
    "print(f\"Hasil: '{kalimat_hasil}'\")\n"
   ]
  },
  {
   "cell_type": "code",
   "execution_count": 5,
   "id": "fc6679f6",
   "metadata": {},
   "outputs": [
    {
     "name": "stdout",
     "output_type": "stream",
     "text": [
      "Terpendek: a\n",
      "Terpanjang: snakes\n"
     ]
    }
   ],
   "source": [
    "def cari_kata_terpendek_dan_terpanjang(kalimat):\n",
    "    # Memecah kalimat menjadi kata-kata\n",
    "    kata_kalimat = kalimat.split()\n",
    "\n",
    "    # Inisialisasi kata terpendek dan terpanjang\n",
    "    kata_terpendek = kata_kalimat[0]\n",
    "    kata_terpanjang = kata_kalimat[0]\n",
    "\n",
    "    # Memeriksa setiap kata dalam kalimat\n",
    "    for kata in kata_kalimat:\n",
    "        if len(kata) < len(kata_terpendek):\n",
    "            kata_terpendek = kata\n",
    "        elif len(kata) > len(kata_terpanjang):\n",
    "            kata_terpanjang = kata\n",
    "\n",
    "    return kata_terpendek, kata_terpanjang\n",
    "\n",
    "# Contoh penggunaan\n",
    "kalimat = \"red snakes and a black frog in the pool\"\n",
    "kata_terpendek, kata_terpanjang = cari_kata_terpendek_dan_terpanjang(kalimat)\n",
    "\n",
    "print(f\"Terpendek: {kata_terpendek}\")\n",
    "print(f\"Terpanjang: {kata_terpanjang}\")"
   ]
  },
  {
   "cell_type": "code",
   "execution_count": null,
   "id": "6f0ff0ba",
   "metadata": {},
   "outputs": [],
   "source": []
  }
 ],
 "metadata": {
  "kernelspec": {
   "display_name": "Python 3 (ipykernel)",
   "language": "python",
   "name": "python3"
  },
  "language_info": {
   "codemirror_mode": {
    "name": "ipython",
    "version": 3
   },
   "file_extension": ".py",
   "mimetype": "text/x-python",
   "name": "python",
   "nbconvert_exporter": "python",
   "pygments_lexer": "ipython3",
   "version": "3.11.5"
  }
 },
 "nbformat": 4,
 "nbformat_minor": 5
}
